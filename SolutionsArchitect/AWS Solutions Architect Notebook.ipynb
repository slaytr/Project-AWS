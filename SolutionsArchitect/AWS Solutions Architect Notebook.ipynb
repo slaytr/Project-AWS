{
 "cells": [
  {
   "cell_type": "markdown",
   "metadata": {},
   "source": [
    "### AWS Solutions Architect Associate\n",
    "\n",
    "<p> \n",
    "The AWS Solutions Architect Associate course comprises of fundamental knowledge expected of an AWS professional with at least one year of experience on AWS.\n",
    "</p>"
   ]
  },
  {
   "cell_type": "markdown",
   "metadata": {},
   "source": [
    "---\n",
    "#### Summary\n",
    "\n",
    "RDS (OLTP) | Read Replica + Multi-AZ\n",
    "* SQL\n",
    "* MySQL\n",
    "* PostgreSQL\n",
    "* Oracle\n",
    "* Aurora\n",
    "* MariaDB\n",
    "\n",
    "DynamoDB (NoSQL)\n",
    "Red Shift (OLAP) | Business Intelligence + Data Warehousing\n",
    "\n",
    "ElastiCache | Speed up performance of existing\n",
    "\n",
    "---"
   ]
  },
  {
   "cell_type": "markdown",
   "metadata": {
    "collapsed": false
   },
   "source": [
    "### Databases\n",
    "\n",
    "### Relational databases - *Been around since 70's*\n",
    "\n",
    "AWS Relational Databases (6)\n",
    "   * SQL Server\n",
    "   * Oracle\n",
    "   * MySQL\n",
    "   * PostgreSQL\n",
    "   * Aurora\n",
    "   * MariaDB\n",
    "\n",
    "RDS has two key features\n",
    "   * Multi-AZ (Disaster Recovery)\n",
    "   * Read Replicas (Performance)\n",
    "\n",
    "#### Multi-AZ  - Disaster Recovery\n",
    "<img src=\"images/rds-multi-az.png\" alt=\"multi-az\" width=\"500\"/>\n",
    "\n",
    "AWS hosts a DNS record and point it at a primary database, at their internal IP address  \n",
    "If it goes down, it'll point it to a secondary database. Failover is automatic with Multi-AZ  \n",
    "\n",
    "#### Read Replica - Performance\n",
    "<img src=\"images/rds-multi-az.png\" alt=\"multi-az\" width=\"500\"/>\n",
    "\n",
    "AWS hosts a DNS record and points it at a primary database, which creates a perfect copy AKA Read Replica  \n",
    "If the load is high, you can read from other read replicas, up to 5 copies\n",
    "\n",
    "### Non Relational Databases \n",
    "\n",
    "Collection = Table  \n",
    "Document = Row  \n",
    "Key Value Pairs = Fields  \n",
    "\n",
    "Advantage - Can add new column to any given row without having to add columns to all other rows"
   ]
  },
  {
   "cell_type": "markdown",
   "metadata": {
    "collapsed": true
   },
   "source": [
    " ### Data Warehousing\n",
    " \n",
    " Used for Business Intelligence\n",
    " * Cognos\n",
    " * Jaspersoft\n",
    " * SQL Server Reporting Services\n",
    " * Oracle Hyperion\n",
    " * SAP NetWeaver\n",
    " \n",
    " Used to pull in very large and complex data sets.  \n",
    " Usually by management to do queries on data.  "
   ]
  },
  {
   "cell_type": "markdown",
   "metadata": {},
   "source": [
    "####  Online Transaction Processing (OLTP) differs from Online Analytics Processing (OLAP)\n",
    "\n",
    "* OLTP | Online Transaction Processing\n",
    "* OLAP | Online Analytics Processing\n",
    "\n",
    "#### OLTP\n",
    "\n",
    "Transaction Processing Example - Payment  \n",
    "Order Number 212012  \n",
    "Pulls up a row of data, etc.\n",
    "\n",
    "Few queries\n",
    "\n",
    "#### OLAP\n",
    "\n",
    "Analytics Processing Example - Net Profit of Radios  \n",
    "Sum of Radios Sold in EMEA  \n",
    "Sum of Radios Sold in Pacific  \n",
    "Costs, etc  \n",
    "\n",
    "Many queries  \n",
    "\n",
    "#### Data Warehousing databases  \n",
    "A database architecture specifically designed to cater for Online Analytics Processing \n",
    "\n",
    "AWS Redshift - Is a database designed to data warehouse for Analytics Processing purposes\n",
    "\n",
    "#### ElastiCache\n",
    "\n",
    "Webservice that makes it easy to deploy, operate and scale an in-memory cache in the cloud.  \n",
    "Cache common web queries  \n",
    "Supports two open-source in-memory caching engines:  \n",
    "* Memcached\n",
    "* Redis\n"
   ]
  },
  {
   "cell_type": "code",
   "execution_count": null,
   "metadata": {
    "collapsed": true
   },
   "outputs": [],
   "source": []
  },
  {
   "cell_type": "markdown",
   "metadata": {},
   "source": [
    "#### Details\n",
    "<pre>\n",
    "db:     solutionsarchitect\n",
    "master: admin\n",
    "pw:     solutionsarchitect\n",
    "</pre>"
   ]
  },
  {
   "cell_type": "code",
   "execution_count": null,
   "metadata": {
    "collapsed": true
   },
   "outputs": [],
   "source": []
  }
 ],
 "metadata": {
  "kernelspec": {
   "display_name": "Python 3",
   "language": "python",
   "name": "python3"
  },
  "language_info": {
   "codemirror_mode": {
    "name": "ipython",
    "version": 3
   },
   "file_extension": ".py",
   "mimetype": "text/x-python",
   "name": "python",
   "nbconvert_exporter": "python",
   "pygments_lexer": "ipython3",
   "version": "3.6.0"
  }
 },
 "nbformat": 4,
 "nbformat_minor": 2
}
